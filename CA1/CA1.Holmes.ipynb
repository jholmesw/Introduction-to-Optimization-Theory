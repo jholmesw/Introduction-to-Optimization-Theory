{
 "cells": [
  {
   "cell_type": "markdown",
   "id": "e4394971",
   "metadata": {},
   "source": [
    "# Computing Assignment 1: Jacob Holmes"
   ]
  },
  {
   "cell_type": "markdown",
   "id": "c2686460",
   "metadata": {},
   "source": [
    "Installed the following packages to the venv before running all the code."
   ]
  },
  {
   "cell_type": "code",
   "execution_count": 36,
   "id": "a21f742a",
   "metadata": {},
   "outputs": [],
   "source": [
    "import pyomo.environ as pyo\n",
    "import pandas as pd\n",
    "import numpy as np"
   ]
  },
  {
   "cell_type": "markdown",
   "id": "7fd5b04b",
   "metadata": {},
   "source": [
    "## Problem 1"
   ]
  },
  {
   "cell_type": "markdown",
   "id": "969eb0bd",
   "metadata": {},
   "source": [
    "### Data"
   ]
  },
  {
   "cell_type": "code",
   "execution_count": 37,
   "id": "34977aa3",
   "metadata": {},
   "outputs": [],
   "source": [
    "Shift8Hours = [1,2,3,4,5,6,7] # Possible 8-hour shifts indicies\n",
    "Shift6Hours = [1,2,3,4,5,6,7,8] # Possible 6-hour shifts indicies\n",
    "Shift4Hours = [1,2,3,4,5,6,7,8,9] # Possible 4-hour shifts indicies\n",
    "TimePeriods = [1,2,3,4,5,6,7,8,9,10] # Number of consecutive 2-hour time periods\n",
    "ShiftTypes = [1,2,3] # 1=8-hour, 2=6-hour, 3=4-hour\n",
    "\n",
    "n = 10  # Number of time periods\n",
    "\n",
    "# Cost in $ per employee working shift type \"ShiftType\"\n",
    "c = {\n",
    "    1: 180,  # Cost for 8-hour shift\n",
    "    2: 140,   # Cost for 6-hour shift\n",
    "    3: 100    # Cost for 4-hour shift\n",
    "}\n",
    "\n",
    "# Number of employees required in time period \"l\"\n",
    "r = {\n",
    "    1: 2,\n",
    "    2: 4,\n",
    "    3: 5,\n",
    "    4: 8,\n",
    "    5: 11,\n",
    "    6: 10,\n",
    "    7: 9,\n",
    "    8: 7,\n",
    "    9: 6,\n",
    "    10: 5\n",
    "}\n",
    "\n",
    "\n",
    "#Used Copilot to generate the following repetitive coverage matrices\n",
    "# Coverage matrix for 8-hour shifts on time period \"t\"\n",
    "# Each 8-hour shift covers 4 consecutive periods\n",
    "a = {}\n",
    "for s in Shift8Hours:\n",
    "    for t in TimePeriods:\n",
    "        # Shift s starts at period s, covers periods s to s+3\n",
    "        a[(t, s)] = 1 if t >= s and t < s + 4 else 0\n",
    "\n",
    "# Display the matrix for verification\n",
    "\n",
    "#for t in TimePeriods:\n",
    "#    row = [a[(t, s)] for s in Shift8Hours]\n",
    "#    print(f\"Time period {t}: {row}\")\n",
    "\n",
    "\n",
    "# Coverage matrix for 6-hour shifts on time period \"t\"\n",
    "# Each 6-hour shift covers 3 consecutive periods\n",
    "b = {}\n",
    "for s in Shift6Hours:\n",
    "    for t in TimePeriods:\n",
    "        # Shift s starts at period s, covers periods s to s+2\n",
    "        b[(t, s)] = 1 if t >= s and t < s + 3 else 0\n",
    "\n",
    "# Display the matrix for verification\n",
    "#for t in TimePeriods:\n",
    "#    row = [b[(t, s)] for s in Shift6Hours]\n",
    "#    print(f\"Time period {t}: {row}\")\n",
    "\n",
    "# Coverage matrix for 4-hour shifts on time period \"t\"\n",
    "# Each 4-hour shift covers 2 consecutive periods\n",
    "d = {}\n",
    "for s in Shift4Hours:\n",
    "    for t in TimePeriods:\n",
    "        # Shift s starts at period s, covers periods s to s+1\n",
    "        d[(t, s)] = 1 if t >= s and t < s + 2 else 0\n",
    "\n",
    "# Display the matrix for verification\n",
    "#for t in TimePeriods:\n",
    "#    row = [d[(t, s)] for s in Shift4Hours]\n",
    "#    print(f\"Time period {t}: {row}\")"
   ]
  },
  {
   "cell_type": "markdown",
   "id": "02879524",
   "metadata": {},
   "source": [
    "### Build the model for staffing coverage"
   ]
  },
  {
   "cell_type": "code",
   "execution_count": 38,
   "id": "f4f7f0b9",
   "metadata": {},
   "outputs": [],
   "source": [
    "m1 = pyo.ConcreteModel()\n",
    "\n",
    "# Define index sets\n",
    "m1.T = pyo.Set(initialize=TimePeriods)  # Time periods\n",
    "m1.S8 = pyo.Set(initialize=Shift8Hours)  # 8-hour shifts\n",
    "m1.S6 = pyo.Set(initialize=Shift6Hours)  # 6-hour shifts\n",
    "m1.S4 = pyo.Set(initialize=Shift4Hours)  # 4-hour shifts\n",
    "m1.ST = pyo.Set(initialize=ShiftTypes)  # Shift types\n",
    "\n",
    "#m1. ST.pprint()\n",
    "\n",
    "# Define parameters\n",
    "m1.c = pyo.Param(m1.ST, initialize=c)  # Cost per shift type\n",
    "m1.r = pyo.Param(m1.T, initialize=r)  # Required employees per time period\n",
    "m1.a = pyo.Param(m1.T, m1.S8, initialize=a)  # Coverage matrix for 8-hour shifts\n",
    "m1.b = pyo.Param(m1.T, m1.S6, initialize=b)  # Coverage matrix for 6-hour shifts\n",
    "m1.d = pyo.Param(m1.T, m1.S4, initialize=d) # Coverage matrix for 4-hour shifts\n",
    "\n",
    "#m1.d.pprint()\n",
    "\n",
    "# Define decision variables\n",
    "m1.x8 = pyo.Var(m1.S8, domain=pyo.NonNegativeReals)  # Number of employees on 8-hour shifts\n",
    "m1.x6 = pyo.Var(m1.S6, domain=pyo.NonNegativeReals)  # Number of employees on 6-hour shifts\n",
    "m1.x4 = pyo.Var(m1.S4, domain=pyo.NonNegativeReals)  # Number of employees on 4-hour shifts\n",
    "\n",
    "# Define objective function: Minimize total cost\n",
    "def obj_rule(m):\n",
    "    return sum(m.c[1] * m.x8[s] for s in m.S8) + \\\n",
    "           sum(m.c[2] * m.x6[s] for s in m.S6) + \\\n",
    "           sum(m.c[3] * m.x4[s] for s in m.S4)\n",
    "\n",
    "m1.OBJ = pyo.Objective(rule=obj_rule, sense=pyo.minimize)\n",
    "\n",
    "# Define constraints\n",
    "\n",
    "# Staffing minimum requirement constraints\n",
    "def staffing_requirement(m, t):\n",
    "    return sum(m.a[t, s] * m.x8[s] for s in m.S8) + \\\n",
    "           sum(m.b[t, s] * m.x6[s] for s in m.S6) + \\\n",
    "           sum(m.d[t, s] * m.x4[s] for s in m.S4) >= m.r[t]\n",
    "\n",
    "m1.StaffingRequirement = pyo.Constraint(m1.T, rule=staffing_requirement)\n",
    "\n",
    "# Staffing requirement for proportinality so that at least 40% of employees are on 8-hour shifts for every time period\n",
    "def prop_8_hour_shift(m, t):\n",
    "    return sum(m.a[t, s] * m.x8[s] for s in m.S8) >= \\\n",
    "        0.4 *   (sum(m.a[t, s] * m.x8[s] for s in m.S8) + \\\n",
    "                sum(m.b[t, s] * m.x6[s] for s in m.S6) + \\\n",
    "                sum(m.d[t, s] * m.x4[s] for s in m.S4))\n",
    "\n",
    "m1.Prop8HourShift = pyo.Constraint(m1.T, rule=prop_8_hour_shift)\n",
    "\n"
   ]
  },
  {
   "cell_type": "markdown",
   "id": "ad00c8a3",
   "metadata": {},
   "source": [
    "### Solve the model"
   ]
  },
  {
   "cell_type": "code",
   "execution_count": 39,
   "id": "d2e9fe4f",
   "metadata": {},
   "outputs": [
    {
     "name": "stdout",
     "output_type": "stream",
     "text": [
      "Objective value: $ 3060.0\n",
      "Optimal number of employees for 8-hour shift s: {1: 1.0, 2: 2.0, 3: 2.0, 4: 2.0, 5: 4.0, 6: 1.0, 7: 2.0}\n",
      "Optimal number of employees for 6-hour shift s: {1: 0.0, 2: 0.0, 3: 0.0, 4: 1.0, 5: 0.0, 6: 0.0, 7: 0.0, 8: 0.0}\n",
      "Optimal number of employees for 4-hour shift s: {1: 1.0, 2: 0.0, 3: 0.0, 4: 0.0, 5: 0.0, 6: 0.0, 7: 0.0, 8: 0.0, 9: 3.0}\n",
      "The number of total employees on each time period is as follows: {1: 2.0, 2: 4.0, 3: 5.0, 4: 8.0, 5: 11.0, 6: 10.0, 7: 9.0, 8: 7.0, 9: 6.0, 10: 5.0}\n"
     ]
    }
   ],
   "source": [
    "opt = pyo.SolverFactory('cplex')\n",
    "\n",
    "results1 = opt.solve(m1)\n",
    "\n",
    "# Print the results\n",
    "\n",
    "print(\"Objective value: $\", pyo.value(m1.OBJ))\n",
    "\n",
    "print(\"Optimal number of employees for 8-hour shift s:\", {s: pyo.value(m1.x8[s]) for s in m1.S8})\n",
    "\n",
    "print(\"Optimal number of employees for 6-hour shift s:\", {s: pyo.value(m1.x6[s]) for s in m1.S6})\n",
    "\n",
    "print(\"Optimal number of employees for 4-hour shift s:\", {s: pyo.value(m1.x4[s]) for s in m1.S4})\n",
    "\n",
    "print(\"The number of total employees on each time period is as follows:\", {t: sum(m1.a[t, s] * pyo.value(m1.x8[s]) for s in m1.S8) + \n",
    "                            sum(m1.b[t, s] * pyo.value(m1.x6[s]) for s in m1.S6) + \n",
    "                            sum(m1.d[t, s] * pyo.value(m1.x4[s]) for s in m1.S4) for t in m1.T})\n",
    "\n",
    "\n",
    "#print(\"The proportion of employees on 8-hour shifts for each time period is as follows:\", {t: sum(m1.a[t, s] * pyo.value(m1.x8[s]) for s in m1.S8) / \n",
    "#                            (sum(m1.a[t, s] * pyo.value(m1.x8[s]) for s in m1.S8) + \n",
    "#                            sum(m1.b[t, s] * pyo.value(m1.x6[s]) for s in m1.S6) + \n",
    "#                            sum(m1.d[t, s] * pyo.value(m1.x4[s]) for s in m1.S4)) for t in m1.T})"
   ]
  },
  {
   "cell_type": "markdown",
   "id": "8039dd15",
   "metadata": {},
   "source": [
    "## Problem 3"
   ]
  },
  {
   "cell_type": "markdown",
   "id": "1c6d07da",
   "metadata": {},
   "source": [
    "### Data"
   ]
  },
  {
   "cell_type": "code",
   "execution_count": 40,
   "id": "44404ff3",
   "metadata": {},
   "outputs": [],
   "source": [
    "# Indicies and parameters for indicies\n",
    "n = 5 # Number of months to consider\n",
    "\n",
    "i = [0,1,2,3,4,5] # Index for months\n",
    "iy = [-2,-1,0,1,2,3,4,5] # Index for months for use with y dv\n",
    "ic = [1,2,3,4,5] # Index i for use with constraints\n",
    "\n",
    "j = [1,2,3] # Index for investment options (1-month, 2-month, 3-month)\n",
    "\n",
    "# Parameters\n",
    "r = {1: 500, 2: 800, 3: 300, 4: 300, 5: 0} # Revenue in $ received at the beginning of month i\n",
    "\n",
    "b = {1: 600, 2: 600, 3: 450, 4: 250, 5: 0} # Bill amount in $ to pay right after recieving revenue in month i\n",
    "\n",
    "t = {1: 1+0.002,\n",
    "     2: (1+0.007)**2,\n",
    "     3: (1+0.02)**3} # Growth factor for investment option j\n",
    "\n",
    "f = 500 # Initial funds available at the beginning of month 1"
   ]
  },
  {
   "cell_type": "markdown",
   "id": "3a4d0ac6",
   "metadata": {},
   "source": [
    "### Build the model"
   ]
  },
  {
   "cell_type": "code",
   "execution_count": 41,
   "id": "ccb11a04",
   "metadata": {},
   "outputs": [],
   "source": [
    "m3 = pyo.ConcreteModel()\n",
    "\n",
    "# Define index sets\n",
    "m3.I = pyo.Set(initialize=i)  # Months\n",
    "m3.IY = pyo.Set(initialize=iy)  # Months for y dv\n",
    "m3.J = pyo.Set(initialize=j)  # Investment options\n",
    "m3.IC = pyo.Set(initialize=ic)  # Index i for use with constraints\n",
    "\n",
    "# Define parameters\n",
    "m3.r = pyo.Param(m3.IC, initialize=r)  # Revenue in $ at beginning of month i\n",
    "m3.b = pyo.Param(m3.IC, initialize=b)  # Bill amount in $ to pay right after recieving revenue in month i\n",
    "m3.t = pyo.Param(m3.J, initialize=t)  # Growth factor for investment option j\n",
    "\n",
    "# Define decision variables\n",
    "m3.x = pyo.Var(m3.I, domain=pyo.NonNegativeReals)  # Cash on hand at beginning of month i after all transactions\n",
    "m3.y = pyo.Var(m3.IY, m3.J, domain=pyo.NonNegativeReals)  # Amount invested in j-month-long option at beginning of month i\n",
    "\n",
    "# Define objective function: Maximize cash on hand at beginning of month n\n",
    "def obj_rule(m):\n",
    "    return m.x[n]\n",
    "\n",
    "m3.OBJ = pyo.Objective(rule=obj_rule, sense=pyo.maximize)\n",
    "\n",
    "\n",
    "# Define constraints\n",
    "\n",
    "# Balancing constraints for cash on hand and cash flows\n",
    "def cash_flow_balance(m, i):\n",
    "    if i == 0:\n",
    "        return m.x[i] == f  # Initial cash on hand is f\n",
    "    else:\n",
    "        return m.x[i] == m.x[i-1] + m.r[i] - m.b[i] + sum(m.y[i - j, j] * m.t[j] - m.y[i, j] for j in m.J)\n",
    "    \n",
    "m3.CashFlowBalance = pyo.Constraint(m3.I, rule=cash_flow_balance)\n",
    "\n",
    "#m3.CashFlowBalance.pprint()\n",
    "    \n",
    "# Investment constraints: Cannot invest in months that do not exist or cannot for final months\n",
    "def investment_constraint(m, i, j):\n",
    "    if i <= 0:\n",
    "        return m.y[i, j] == 0\n",
    "    elif i == n:\n",
    "        return m.y[i, j] == 0\n",
    "    elif i == n-1 and j >= 2:\n",
    "        return m.y[i, j] == 0\n",
    "    elif i == n-2 and j == 3:\n",
    "        return m.y[i, j] == 0 \n",
    "    else:\n",
    "        return pyo.Constraint.Skip\n",
    "    \n",
    "m3.InvestmentConstraint = pyo.Constraint(m3.IY, m3.J, rule=investment_constraint)\n",
    "\n",
    "# Checking the investment opportunity constraint logic to ensure that only the months that should be restricted are restricted\n",
    "#m3.InvestmentConstraint.pprint()\n",
    "    \n",
    "\n",
    "\n"
   ]
  },
  {
   "cell_type": "markdown",
   "id": "6228cdf9",
   "metadata": {},
   "source": [
    "### Solve the model"
   ]
  },
  {
   "cell_type": "code",
   "execution_count": 42,
   "id": "9df2732a",
   "metadata": {},
   "outputs": [
    {
     "name": "stdout",
     "output_type": "stream",
     "text": [
      "Objective value: $ 530.3839683724885\n",
      "Optimal cash on hand at beginning of each month i: {0: 500.0, 1: 0.0, 2: 0.0, 3: 0.0, 4: 0.0, 5: 530.3839683724885}\n",
      "Optimal investment amounts y[i,j]: {(1, 2): 147.9218459857463, (1, 3): 252.0781540142537, (2, 3): 200.0, (4, 1): 317.5073536651582}\n",
      "All other combinations of y[i,j] are 0\n"
     ]
    }
   ],
   "source": [
    "results3 = opt.solve(m3)\n",
    "\n",
    "# Print the results\n",
    "\n",
    "print(\"Objective value: $\", pyo.value(m3.OBJ))\n",
    "print(\"Optimal cash on hand at beginning of each month i:\", {i: pyo.value(m3.x[i]) for i in m3.I})\n",
    "print(\"Optimal investment amounts y[i,j]:\", {(i,j): pyo.value(m3.y[i,j]) for i in m3.IY for j in m3.J if pyo.value(m3.y[i,j]) > 0})\n",
    "print(\"All other combinations of y[i,j] are 0\")\n",
    "\n"
   ]
  },
  {
   "cell_type": "markdown",
   "id": "bbdf3ef2",
   "metadata": {},
   "source": [
    "## Problem  5"
   ]
  },
  {
   "cell_type": "markdown",
   "id": "f78d2a16",
   "metadata": {},
   "source": [
    "### Data"
   ]
  },
  {
   "cell_type": "code",
   "execution_count": 43,
   "id": "067dbb29",
   "metadata": {},
   "outputs": [],
   "source": [
    "i = [1,2] # Scrap yard indicies\n",
    "j = [1,2] # Recycling facility indicies\n",
    "k = [1,2] # Customer indicies\n",
    "\n",
    "# Parameters\n",
    "\n",
    "d = {1: 300, 2: 700} # Demand in tons of recycled steel for customer k\n",
    "\n",
    "s = {(1,1): 45,\n",
    "     (1,2): 70,\n",
    "     (2,1): 30,\n",
    "     (2,2): 35} # Cost in $ per ton of recycled steel transported from recycling facility j to customer k\n",
    "\n",
    "p = {1: 55, 2: 40} # Price in $ per ton of scrap steel processed at recycling facility j\n",
    "\n",
    "r = 0.95 # Number of tons of recycled steel produced per ton of scrap steel processed\n",
    "\n",
    "t = {(1,1): 10,\n",
    "     (1,2): 60,\n",
    "     (2,1): 80,\n",
    "     (2,2): 70} # Cost in $ per ton of scrap steel transported from scrap yard i to recycling facility j\n",
    "\n",
    "a = {1: 500, 2: 800} # Amount of scrap steel in tons available at scrap yard i\n",
    "\n",
    "l = 800 # Maximum processing capacity in tons at each recycling facility"
   ]
  },
  {
   "cell_type": "markdown",
   "id": "a1a8d80d",
   "metadata": {},
   "source": [
    "### Build the model"
   ]
  },
  {
   "cell_type": "code",
   "execution_count": 44,
   "id": "71fe1ce5",
   "metadata": {},
   "outputs": [],
   "source": [
    "# Define model\n",
    "m5 = pyo.ConcreteModel()\n",
    "\n",
    "# Define Index sets\n",
    "m5.I = pyo.Set(initialize=i)  # Scrap yards\n",
    "m5.J = pyo.Set(initialize=j)  # Recycling facilities\n",
    "m5.K = pyo.Set(initialize=k)  # Customers\n",
    "\n",
    "# Define Parameters\n",
    "m5.d = pyo.Param(m5.K, initialize=d)  # Demand in tons for customer k\n",
    "m5.s = pyo.Param(m5.J, m5.K, initialize=s)  # Cost in $ per ton from facility j to customer k\n",
    "m5.p = pyo.Param(m5.J, initialize=p)  # Price in $ per ton processed at facility j\n",
    "m5.r = pyo.Param(initialize=r)  # Tons of recycled steel produced per ton of scrap steel processed\n",
    "m5.t = pyo.Param(m5.I, m5.J, initialize=t)  # Cost in $ per ton from scrap yard i to facility j\n",
    "m5.a = pyo.Param(m5.I, initialize=a)  # Amount of scrap steel available at scrap yard i\n",
    "m5.l = pyo.Param(initialize=l)  # Max processing capacity at each facility\n",
    "\n",
    "# Define Decision Variables\n",
    "m5.x = pyo.Var(m5.I, m5.J, domain=pyo.NonNegativeReals)  # Tons of scrap steel transported from scrap yard i to facility j\n",
    "m5.y = pyo.Var(m5.J, m5.K, domain=pyo.NonNegativeReals)  # Tons of recycled steel transported from facility j to customer k\n",
    "\n",
    "# Define Objective Function\n",
    "def obj_rule(m):\n",
    "    return sum((m.p[j] + m.t[i, j]) * m.x[i, j] for i in m.I for j in m.J) + \\\n",
    "           sum(m.s[j, k] * m.y[j, k] for j in m.J for k in m.K)\n",
    "\n",
    "m5.OBJ = pyo.Objective(rule=obj_rule, sense=pyo.minimize)\n",
    "\n",
    "#m5.OBJ.pprint()\n",
    "\n",
    "# Define Constraints\n",
    "\n",
    "# Customer demand constraints from recycled steel\n",
    "def customer_demand(m, k):\n",
    "    return sum(m.y[j, k] for j in m.J) == m.d[k]\n",
    "\n",
    "m5.CustomerDemand = pyo.Constraint(m5.K, rule=customer_demand)\n",
    "\n",
    "# Scrap yard supply constraints\n",
    "def scrap_yard_supply(m, i):\n",
    "    return sum(m.x[i, j] for j in m.J) <= m.a[i]\n",
    "\n",
    "m5.ScrapYardSupply = pyo.Constraint(m5.I, rule=scrap_yard_supply)\n",
    "\n",
    "# Recycling facility capacity constraints\n",
    "def facility_capacity(m, j):\n",
    "    return sum(m.x[i, j] for i in m.I) <= m.l\n",
    "\n",
    "m5.FacilityCapacity = pyo.Constraint(m5.J, rule=facility_capacity)\n",
    "\n",
    "# Recycling facility flow balance constraints\n",
    "def facility_flow_balance(m, j):\n",
    "    return sum(m.y[j, k] for k in m.K) == m.r * sum(m.x[i, j] for i in m.I)\n",
    "\n",
    "m5.FacilityFlowBalance = pyo.Constraint(m5.J, rule=facility_flow_balance)\n"
   ]
  },
  {
   "cell_type": "markdown",
   "id": "dcb893ad",
   "metadata": {},
   "source": [
    "### Solve the model"
   ]
  },
  {
   "cell_type": "code",
   "execution_count": 45,
   "id": "61f77d9a",
   "metadata": {},
   "outputs": [
    {
     "name": "stdout",
     "output_type": "stream",
     "text": [
      "Objective value: $ 137414.47368421053\n",
      "Optimal tons of scrap steel transported from scrap yard i to facility j: {(1, 1): 500.0, (2, 2): 552.6315789473684}\n",
      "Optimal tons of recycled steel transported from facility j to customer k: {(1, 1): 300.0, (1, 2): 175.0, (2, 2): 525.0}\n",
      "All other combinations of x[i,j] and y[j,k] are 0\n"
     ]
    }
   ],
   "source": [
    "results5 = opt.solve(m5)\n",
    "\n",
    "# Print the results\n",
    "\n",
    "print(\"Objective value: $\", pyo.value(m5.OBJ))\n",
    "print(\"Optimal tons of scrap steel transported from scrap yard i to facility j:\", \\\n",
    "      {(i,j): pyo.value(m5.x[i,j]) for i in m5.I for j in m5.J if pyo.value(m5.x[i,j]) > 0})\n",
    "print(\"Optimal tons of recycled steel transported from facility j to customer k:\", \\\n",
    "      {(j,k): pyo.value(m5.y[j,k]) for j in m5.J for k in m5.K if pyo.value(m5.y[j,k]) > 0})\n",
    "print(\"All other combinations of x[i,j] and y[j,k] are 0\")"
   ]
  },
  {
   "cell_type": "markdown",
   "id": "40d940de",
   "metadata": {},
   "source": [
    "## Problem 6"
   ]
  },
  {
   "cell_type": "markdown",
   "id": "ca487e0b",
   "metadata": {},
   "source": [
    "### Data"
   ]
  },
  {
   "cell_type": "code",
   "execution_count": 46,
   "id": "95391090",
   "metadata": {},
   "outputs": [],
   "source": [
    "i = [1,2] # month indicies\n",
    "j = [1,2] # product indicies\n",
    "k = [1,2] # machine line indicies\n",
    "iy = [0,1,2] # month indicies for use with y dv definition\n",
    "\n",
    "# Parameters\n",
    "c = {(1,1): 2.1, (1,2): 2.4,\n",
    "     (2,1): 2.18, (2,2): 2.52} # Cost in $ per unit of product j produced on machine line k\n",
    "\n",
    "h = 0.20 # Holding cost in $ per unit of product held in inventory from month i to month i+1\n",
    "\n",
    "d = {(1,1): 5000, (1,2): 2000,\n",
    "     (2,1): 8000, (2,2): 4000} # Demand in units of product j in month i\n",
    "\n",
    "r = {(1,1): 0.15, (1,2): 0.17,\n",
    "     (2,1): 0.12, (2,2): 0.14} # Amount of time in hours using machine line k to produce one unit of product j\n",
    "\n",
    "l ={(1,1): 800, (1,2): 2000,\n",
    "    (2,1): 500, (2,2): 1100} # Available machine line k hours in month i\n",
    "\n",
    "b = 1000 # Base inventory required by management for each product at the end of April (month 2)\n",
    "\n",
    "f = {1: 500, 2: 750} # Initial inventory in units of product j at the beginning of March (month 1)"
   ]
  },
  {
   "cell_type": "markdown",
   "id": "20f03c22",
   "metadata": {},
   "source": [
    "### Build the model"
   ]
  },
  {
   "cell_type": "code",
   "execution_count": 47,
   "id": "638b1134",
   "metadata": {},
   "outputs": [],
   "source": [
    "# Define model\n",
    "m6 = pyo.ConcreteModel()\n",
    "\n",
    "# Define index sets\n",
    "m6.I = pyo.Set(initialize=i)  # Months (1=March, 2=April)\n",
    "m6.J = pyo.Set(initialize=j)  # Products (1=Product A, 2=Product B)\n",
    "m6.K = pyo.Set(initialize=k)  # Machine lines\n",
    "m6.IY = pyo.Set(initialize=iy)  # Months for y dv definition\n",
    "\n",
    "# Define parameters\n",
    "m6.c = pyo.Param(m6.I, m6.J, initialize=c)  # Cost in $ per unit of product j on machine line k\n",
    "m6.h = pyo.Param(initialize=h)  # Holding cost in $ per unit held in inventory\n",
    "m6.d = pyo.Param(m6.I, m6.J, initialize=d)  # Demand in units of product j in month i\n",
    "m6.r = pyo.Param(m6.J, m6.K, initialize=r)  # Time in hours using machine line k to produce one unit of product j\n",
    "m6.l = pyo.Param(m6.I, m6.K, initialize=l)  # Available machine line k hours in month i\n",
    "m6.b = pyo.Param(initialize=b)  # Base inventory required at end of month 2\n",
    "m6.f = pyo.Param(m6.J, initialize=f)  # Initial inventory in units of product j at beginning of month 1\n",
    "\n",
    "# Define decision variables\n",
    "m6.x = pyo.Var(m6.I, m6.J, m6.K, domain=pyo.NonNegativeReals)  # Units of product j produced in month i on line k\n",
    "m6.y = pyo.Var(m6.IY, m6.J, domain=pyo.NonNegativeReals)  # Inventory of product j at end of month i\n",
    "\n",
    "# Define objective function\n",
    "def obj_rule(m):\n",
    "    return sum(m.c[j, k] * m.x[i, j, k] for i in m.I for j in m.J for k in m.K) + \\\n",
    "           sum(m.h * m.y[i, j] for i in m.I for j in m.J)\n",
    "\n",
    "m6.OBJ = pyo.Objective(rule=obj_rule, sense=pyo.minimize)\n",
    "\n",
    "# Define constraints\n",
    "\n",
    "# Demand fulfillment and inventory/production balance constraints\n",
    "def demand_inventory_balance(m, i, j):\n",
    "    if i == 0:\n",
    "        return m.y[0,j] == m.f[j]\n",
    "    else:\n",
    "        return m.y[i,j] == m.y[i-1,j] + sum(m.x[i,j,k] for k in m.K) - m.d[i,j]\n",
    "    \n",
    "m6.DemandInventoryBalance = pyo.Constraint(m6.IY, m6.J, rule=demand_inventory_balance)\n",
    "\n",
    "#m6.DemandInventoryBalance.pprint()\n",
    "\n",
    "# Minimum inventory level constraint at end of month 2\n",
    "def min_inventory_level(m, j):\n",
    "    return m.y[2,j] >= m.b\n",
    "\n",
    "m6.MinInventoryLevel = pyo.Constraint(m6.J, rule=min_inventory_level)\n",
    "\n",
    "#m6.MinInventoryLevel.pprint()\n",
    "\n",
    "# Machine line capacity constraints\n",
    "def machine_line_capacity(m, i, k):\n",
    "    return sum(m.r[j,k] * m.x[i,j,k] for j in m.J) <= m.l[i,k]\n",
    "\n",
    "m6.MachineLineCapacity = pyo.Constraint(m6.I, m6.K, rule=machine_line_capacity)\n",
    "\n",
    "#m6.pprint()"
   ]
  },
  {
   "cell_type": "markdown",
   "id": "4aeca576",
   "metadata": {},
   "source": [
    "### Solve the model"
   ]
  },
  {
   "cell_type": "code",
   "execution_count": 48,
   "id": "d463ba92",
   "metadata": {},
   "outputs": [
    {
     "name": "stdout",
     "output_type": "stream",
     "text": [
      "Objective value: $ 45997.54901960784\n",
      "Optimal units of product j produced in month i on line k: {(1, 1, 1): 3666.6666666666674, (1, 1, 2): 3362.7450980392155, (1, 2, 1): 2083.333333333333, (2, 1, 2): 6470.588235294117, (2, 2, 1): 4166.666666666667}\n",
      "Optimal inventory of product j at end of month i: {(0, 1): 500.0, (0, 2): 750.0, (1, 1): 2529.411764705883, (1, 2): 833.333333333333, (2, 1): 1000.0, (2, 2): 1000.0}\n",
      "All other combinations of x[i,j,k] and y[i,j] are 0\n"
     ]
    }
   ],
   "source": [
    "results6 = opt.solve(m6)\n",
    "\n",
    "# Print the results\n",
    "print(\"Objective value: $\", pyo.value(m6.OBJ))\n",
    "print(\"Optimal units of product j produced in month i on line k:\", \\\n",
    "      {(i,j,k): pyo.value(m6.x[i,j,k]) for i in m6.I for j in m6.J for k in m6.K if pyo.value(m6.x[i,j,k]) > 0})\n",
    "print(\"Optimal inventory of product j at end of month i:\", \\\n",
    "      {(i,j): pyo.value(m6.y[i,j]) for i in m6.IY for j in m6.J if pyo.value(m6.y[i,j]) > 0})\n",
    "print(\"All other combinations of x[i,j,k] and y[i,j] are 0\")"
   ]
  }
 ],
 "metadata": {
  "kernelspec": {
   "display_name": ".venv",
   "language": "python",
   "name": "python3"
  },
  "language_info": {
   "codemirror_mode": {
    "name": "ipython",
    "version": 3
   },
   "file_extension": ".py",
   "mimetype": "text/x-python",
   "name": "python",
   "nbconvert_exporter": "python",
   "pygments_lexer": "ipython3",
   "version": "3.10.11"
  }
 },
 "nbformat": 4,
 "nbformat_minor": 5
}
